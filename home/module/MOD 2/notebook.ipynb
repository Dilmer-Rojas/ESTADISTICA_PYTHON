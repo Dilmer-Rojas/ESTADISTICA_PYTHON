{
 "cells": [
  {
   "cell_type": "code",
   "execution_count": 1,
   "id": "eb03bdac",
   "metadata": {},
   "outputs": [],
   "source": [
    "import pandas as pd\n",
    "import numpy as np"
   ]
  },
  {
   "cell_type": "code",
   "execution_count": null,
   "id": "4e9628d6",
   "metadata": {},
   "outputs": [
    {
     "name": "stdout",
     "output_type": "stream",
     "text": [
      "Probabilidad de obtener un 3: 0.1703\n"
     ]
    }
   ],
   "source": [
    "# Simulación del lanzamiento de un dato\n",
    "lanzamientos = np.random.randint(1, 7, 10000) # Simula 10 000 lanzamientos de un dado de 6 caras\n",
    "\n",
    "prob_3 = np.sum(lanzamientos == 3) / len(lanzamientos) # Calcula la probabilidad empírica de que salga 3\n",
    "# sum(lanzamientos == 3) -- Cuenta cuantas veces salió 3\n",
    "# len(lanzamientos) -- Total de lanzamientos = 10000\n",
    "print(f\"Probabilidad de obtener un 3: {prob_3:.4f}\") # Imprime el resultado con 4 decimales de precisión"
   ]
  },
  {
   "cell_type": "markdown",
   "id": "be23f284",
   "metadata": {},
   "source": [
    "## Análisis de probabilidad de compras en un supermercado\n",
    "\n",
    "Escenario:\n",
    "\n",
    "Como analista de datos de una cadena de supermercados. Tengo acceso a registros de miles de compras y quiero analizar:\n",
    "\n",
    "1. La probabilidad de que un cliente compre un producto en promoción.\n",
    "2. La probabilidad de que un cliente compre más de tres productos si hay descuento.\n",
    "3. La probabilidad conjunta y condicional entre promociones y cantidad de productos.\n",
    "4. Validación de independencia de eventos.\n"
   ]
  },
  {
   "cell_type": "markdown",
   "id": "99fd6406",
   "metadata": {},
   "source": [
    "### Paso 1: Dataset"
   ]
  },
  {
   "cell_type": "code",
   "execution_count": 7,
   "id": "1fa61644",
   "metadata": {},
   "outputs": [],
   "source": [
    "np.random.seed(42)\n",
    "\n",
    "# 10000 transacciones\n",
    "n = 10000\n",
    "data = pd.DataFrame({\n",
    "    'cliente_id': np.arange(n),\n",
    "    'promo': np.random.choice([1, 0], size=n, p=[0.4, 0.6]), # 40% Promociones Activas\n",
    "    'cantidad_productos': np.random.poisson(lam=3, size=n) # promedio de tres porductos por compra\n",
    "})"
   ]
  },
  {
   "cell_type": "code",
   "execution_count": 9,
   "id": "aed1baca",
   "metadata": {},
   "outputs": [
    {
     "data": {
      "text/html": [
       "<div>\n",
       "<style scoped>\n",
       "    .dataframe tbody tr th:only-of-type {\n",
       "        vertical-align: middle;\n",
       "    }\n",
       "\n",
       "    .dataframe tbody tr th {\n",
       "        vertical-align: top;\n",
       "    }\n",
       "\n",
       "    .dataframe thead th {\n",
       "        text-align: right;\n",
       "    }\n",
       "</style>\n",
       "<table border=\"1\" class=\"dataframe\">\n",
       "  <thead>\n",
       "    <tr style=\"text-align: right;\">\n",
       "      <th></th>\n",
       "      <th>cliente_id</th>\n",
       "      <th>promo</th>\n",
       "      <th>cantidad_productos</th>\n",
       "    </tr>\n",
       "  </thead>\n",
       "  <tbody>\n",
       "    <tr>\n",
       "      <th>0</th>\n",
       "      <td>0</td>\n",
       "      <td>1</td>\n",
       "      <td>2</td>\n",
       "    </tr>\n",
       "    <tr>\n",
       "      <th>1</th>\n",
       "      <td>1</td>\n",
       "      <td>0</td>\n",
       "      <td>3</td>\n",
       "    </tr>\n",
       "    <tr>\n",
       "      <th>2</th>\n",
       "      <td>2</td>\n",
       "      <td>0</td>\n",
       "      <td>7</td>\n",
       "    </tr>\n",
       "    <tr>\n",
       "      <th>3</th>\n",
       "      <td>3</td>\n",
       "      <td>0</td>\n",
       "      <td>0</td>\n",
       "    </tr>\n",
       "    <tr>\n",
       "      <th>4</th>\n",
       "      <td>4</td>\n",
       "      <td>1</td>\n",
       "      <td>0</td>\n",
       "    </tr>\n",
       "  </tbody>\n",
       "</table>\n",
       "</div>"
      ],
      "text/plain": [
       "   cliente_id  promo  cantidad_productos\n",
       "0           0      1                   2\n",
       "1           1      0                   3\n",
       "2           2      0                   7\n",
       "3           3      0                   0\n",
       "4           4      1                   0"
      ]
     },
     "execution_count": 9,
     "metadata": {},
     "output_type": "execute_result"
    }
   ],
   "source": [
    "data.head()"
   ]
  },
  {
   "cell_type": "markdown",
   "id": "5de7cf6f",
   "metadata": {},
   "source": [
    "### Paso 2: Probabilidad de Eventos"
   ]
  },
  {
   "cell_type": "markdown",
   "metadata": {},
   "source": [
    "Evento A: Cliente compra con promoción"
   ]
  },
  {
   "cell_type": "code",
   "execution_count": null,
   "id": "0f9464d2",
   "metadata": {},
   "outputs": [],
   "source": []
  }
 ],
 "metadata": {
  "kernelspec": {
   "display_name": "base",
   "language": "python",
   "name": "python3"
  },
  "language_info": {
   "codemirror_mode": {
    "name": "ipython",
    "version": 3
   },
   "file_extension": ".py",
   "mimetype": "text/x-python",
   "name": "python",
   "nbconvert_exporter": "python",
   "pygments_lexer": "ipython3",
   "version": "3.11.3"
  }
 },
 "nbformat": 4,
 "nbformat_minor": 5
}
