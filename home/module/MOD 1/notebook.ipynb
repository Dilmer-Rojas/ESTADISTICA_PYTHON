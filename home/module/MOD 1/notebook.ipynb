{
 "cells": [
  {
   "cell_type": "code",
   "execution_count": 36,
   "metadata": {},
   "outputs": [],
   "source": [
    "import pandas as pd\n",
    "import numpy as np\n",
    "from scipy import stats"
   ]
  },
  {
   "cell_type": "markdown",
   "metadata": {},
   "source": [
    "## Estadísticas"
   ]
  },
  {
   "cell_type": "markdown",
   "metadata": {},
   "source": [
    "### Población: \n",
    "- La tabla bajo estudio que es: adidas_sales_us -> Conjunto de ventas de adidas en estados unidos\n",
    "### Muestra:\n",
    "- NaN\n",
    "### Variables:\n",
    "- `Retailer`: Punto de Venta\n",
    "- `Retailer ID`: ID del Punto de Venta\n",
    "- `Invoice Date`: Es la fecha de factura para por ejemplo: \n",
    "    - Analizar ventas en función del tiempo (ventas mensuales o anuales).\n",
    "    - Identificar patrones y tendencias en las ventas.\n",
    "    - Realizar análisis de ventas por temporada o periodo.\n",
    "- `Region`: Zona geográfica en la que se realizaron las ventas para por ejemplo:\n",
    "    - Analizar las ventas por región e identificar patrones y tendencias.\n",
    "    - Comparar el desempeño de diferentes regiones.\n",
    "    - Realizar análisis de mercado y planificar estrategias de marketing y ventas por región.\n",
    "- `State`: Estado en específico donde se realizaron las ventas para por ejemplo:\n",
    "    - Analizar las ventas por estado e identicar patrones y tendencias.\n",
    "    - Comparar el desempeño de diferentes estados.\n",
    "    - Realizar análisis de mercado y planificar estratégias de marketing y ventas por estado.\n",
    "- `City`: Ciudad específica donde se realizaron las ventas para por ejemplo:\n",
    "    - Analizar las ventas por ciudad e identificar patrones y tendencias.\n",
    "    - Comparar el desempeño de diferentes ciudades.\n",
    "    - Realizar análisis de mercado y planificar estrategias de marketing y ventas por ciudad.\n",
    "- `Product`: Se refiere al producto de Adidas específico que se vendió, se puede usar para:\n",
    "    - Analizar las ventas por estado e identificar patrones y tendencias.\n",
    "    - Comparar el desempeño de diferentes productos.\n",
    "    - Realizar análisis de mercado y planificar estrategias de marketing y ventas por producto.\n",
    "- `Price per Unit`: Precio de venta de cada unidad, se puede usar para:\n",
    "    - Analizar las ventas en función del precio e identificar patrones y tendencias.\n",
    "    - Comparar el desempeño de diferentes productos en función de su precio.\n",
    "    - Realizar análisis de elasticidad de la demanda y planificar estrategias de precios.\n",
    "- `Units Sold`: Unidades vendidas, se refiere al número de unidades vendidas del producto, se puede usar parapor ejemplo:\n",
    "    - Analizar el volumen de ventas e identificar patrones y tendencias.\n",
    "    - Comparar el desempeño de diferentes productos en función de las unidades vendidas.\n",
    "    - Realizar análisis de ventas y planificar estrategias de inventario y producción.\n",
    "- `Total Sales`: Ventas totales, se refiere al monto total de dinero generado por la venta de los productos de Adidas, se puede usar para:\n",
    "    - Analizar el rendimiento financiero de las ventas.\n",
    "    - Comparar el desempeño de diferentes productos o regiones en función de las ventas totales.\n",
    "    - Realizar análisis de rentabilidad y planificar estrategias de crecimiento.\n",
    "- `Operating Profit`: Beneficio operativo, se refiere a la ganancia que obtiene Adidas después de restar los costos operativos de las ventas, se puede usar para:\n",
    "    - Analizar la rentabilidad de las operaciones de Adidas.\n",
    "    - Comparar el desempeño de diferentes productos o regiones en función del beneficio operativo.\n",
    "    - Realizar análisis de eficiencia y planificar estrategias de optimización de costos.\n",
    "- `Operating Margin`: Margen operativo, se refiere al porcentaje de beneficio operativo que obtiene Adidas en relación con las ventas totales, se puede usar para:\n",
    "    - Analizar la rentabilidad de las operaciones de Adidas en relación con las ventas.\n",
    "    - Comparar el desempeño de diferentes productos o regiones en función del margen operativo.\n",
    "    - Realizar análisis de eficiencia y planificar estrategias de optimización de costos.\n",
    "- `Sales Method`: Método de venta, se refiere a la forma en que se realizaron las ventas de los productos de Adidas, se puede usar para:\n",
    "    - Analizar las ventas en función del canal de venta.\n",
    "    - Comparar el desempeño de diferentes métodos de venta.\n",
    "    - Realizar análisis de mercado y planificar estrategias de ventas y markeing."
   ]
  },
  {
   "cell_type": "markdown",
   "metadata": {},
   "source": [
    "\n",
    "## Tipos de Datos\n",
    "\n",
    "### Cuantitativos (Numéricos)\n",
    "\n",
    "- `Price per Unit`: \n",
    "\n",
    "- `Units Sold`:\n",
    "\n",
    "- `Total Sales`:\n",
    "\n",
    "- `Operating Profit`:\n",
    "\n",
    "- `Operatig Margin`:\n",
    "\n",
    "### Cualitativos (Categóricos)\n",
    "\n",
    "- `Retailer`: Para analizar y comparar el desempeño de cada uno de ellos.\n",
    "\n",
    "- `Retailer ID`: ID\n",
    "\n",
    "- `Invoice Date`: Campo de fechas.\n",
    "\n",
    "- `Region`:\n",
    "\n",
    "- `State`:\n",
    "\n",
    "- `City`:\n",
    "\n",
    "- `Product`:\n",
    "\n",
    "- `Sales Method`:\n"
   ]
  },
  {
   "cell_type": "markdown",
   "metadata": {},
   "source": [
    "## Estadísticas: Medidas de tendencia central"
   ]
  },
  {
   "cell_type": "code",
   "execution_count": 37,
   "metadata": {},
   "outputs": [
    {
     "data": {
      "text/html": [
       "<div>\n",
       "<style scoped>\n",
       "    .dataframe tbody tr th:only-of-type {\n",
       "        vertical-align: middle;\n",
       "    }\n",
       "\n",
       "    .dataframe tbody tr th {\n",
       "        vertical-align: top;\n",
       "    }\n",
       "\n",
       "    .dataframe thead th {\n",
       "        text-align: right;\n",
       "    }\n",
       "</style>\n",
       "<table border=\"1\" class=\"dataframe\">\n",
       "  <thead>\n",
       "    <tr style=\"text-align: right;\">\n",
       "      <th></th>\n",
       "      <th>Unnamed: 0</th>\n",
       "      <th>Retailer</th>\n",
       "      <th>Retailer ID</th>\n",
       "      <th>Invoice Date</th>\n",
       "      <th>Region</th>\n",
       "      <th>State</th>\n",
       "      <th>City</th>\n",
       "      <th>Product</th>\n",
       "      <th>Price per Unit</th>\n",
       "      <th>Units Sold</th>\n",
       "      <th>Total Sales</th>\n",
       "      <th>Operating Profit</th>\n",
       "      <th>Operating Margin</th>\n",
       "      <th>Sales Method</th>\n",
       "    </tr>\n",
       "  </thead>\n",
       "  <tbody>\n",
       "    <tr>\n",
       "      <th>0</th>\n",
       "      <td>0</td>\n",
       "      <td>Foot Locker</td>\n",
       "      <td>1185732</td>\n",
       "      <td>1969-12-31 19:00:43.831</td>\n",
       "      <td>Northeast</td>\n",
       "      <td>New York</td>\n",
       "      <td>New York</td>\n",
       "      <td>Men's Street Footwear</td>\n",
       "      <td>50.0</td>\n",
       "      <td>1200</td>\n",
       "      <td>600000.0</td>\n",
       "      <td>300000.00</td>\n",
       "      <td>0.50</td>\n",
       "      <td>In-store</td>\n",
       "    </tr>\n",
       "    <tr>\n",
       "      <th>1</th>\n",
       "      <td>1</td>\n",
       "      <td>Foot Locker</td>\n",
       "      <td>1185732</td>\n",
       "      <td>1969-12-31 19:00:43.832</td>\n",
       "      <td>Northeast</td>\n",
       "      <td>New York</td>\n",
       "      <td>New York</td>\n",
       "      <td>Men's Athletic Footwear</td>\n",
       "      <td>50.0</td>\n",
       "      <td>1000</td>\n",
       "      <td>500000.0</td>\n",
       "      <td>150000.00</td>\n",
       "      <td>0.30</td>\n",
       "      <td>In-store</td>\n",
       "    </tr>\n",
       "    <tr>\n",
       "      <th>2</th>\n",
       "      <td>2</td>\n",
       "      <td>Foot Locker</td>\n",
       "      <td>1185732</td>\n",
       "      <td>1969-12-31 19:00:43.833</td>\n",
       "      <td>Northeast</td>\n",
       "      <td>New York</td>\n",
       "      <td>New York</td>\n",
       "      <td>Women's Street Footwear</td>\n",
       "      <td>40.0</td>\n",
       "      <td>1000</td>\n",
       "      <td>400000.0</td>\n",
       "      <td>140000.00</td>\n",
       "      <td>0.35</td>\n",
       "      <td>In-store</td>\n",
       "    </tr>\n",
       "    <tr>\n",
       "      <th>3</th>\n",
       "      <td>3</td>\n",
       "      <td>Foot Locker</td>\n",
       "      <td>1185732</td>\n",
       "      <td>1969-12-31 19:00:43.834</td>\n",
       "      <td>Northeast</td>\n",
       "      <td>New York</td>\n",
       "      <td>New York</td>\n",
       "      <td>Women's Athletic Footwear</td>\n",
       "      <td>45.0</td>\n",
       "      <td>850</td>\n",
       "      <td>382500.0</td>\n",
       "      <td>133875.00</td>\n",
       "      <td>0.35</td>\n",
       "      <td>In-store</td>\n",
       "    </tr>\n",
       "    <tr>\n",
       "      <th>4</th>\n",
       "      <td>4</td>\n",
       "      <td>Foot Locker</td>\n",
       "      <td>1185732</td>\n",
       "      <td>1969-12-31 19:00:43.835</td>\n",
       "      <td>Northeast</td>\n",
       "      <td>New York</td>\n",
       "      <td>New York</td>\n",
       "      <td>Men's Apparel</td>\n",
       "      <td>60.0</td>\n",
       "      <td>900</td>\n",
       "      <td>540000.0</td>\n",
       "      <td>162000.00</td>\n",
       "      <td>0.30</td>\n",
       "      <td>In-store</td>\n",
       "    </tr>\n",
       "    <tr>\n",
       "      <th>...</th>\n",
       "      <td>...</td>\n",
       "      <td>...</td>\n",
       "      <td>...</td>\n",
       "      <td>...</td>\n",
       "      <td>...</td>\n",
       "      <td>...</td>\n",
       "      <td>...</td>\n",
       "      <td>...</td>\n",
       "      <td>...</td>\n",
       "      <td>...</td>\n",
       "      <td>...</td>\n",
       "      <td>...</td>\n",
       "      <td>...</td>\n",
       "      <td>...</td>\n",
       "    </tr>\n",
       "    <tr>\n",
       "      <th>9643</th>\n",
       "      <td>9643</td>\n",
       "      <td>Foot Locker</td>\n",
       "      <td>1185732</td>\n",
       "      <td>1969-12-31 19:00:44.220</td>\n",
       "      <td>Northeast</td>\n",
       "      <td>New Hampshire</td>\n",
       "      <td>Manchester</td>\n",
       "      <td>Men's Apparel</td>\n",
       "      <td>50.0</td>\n",
       "      <td>64</td>\n",
       "      <td>3200.0</td>\n",
       "      <td>896.00</td>\n",
       "      <td>0.28</td>\n",
       "      <td>Outlet</td>\n",
       "    </tr>\n",
       "    <tr>\n",
       "      <th>9644</th>\n",
       "      <td>9644</td>\n",
       "      <td>Foot Locker</td>\n",
       "      <td>1185732</td>\n",
       "      <td>1969-12-31 19:00:44.220</td>\n",
       "      <td>Northeast</td>\n",
       "      <td>New Hampshire</td>\n",
       "      <td>Manchester</td>\n",
       "      <td>Women's Apparel</td>\n",
       "      <td>41.0</td>\n",
       "      <td>105</td>\n",
       "      <td>4305.0</td>\n",
       "      <td>1377.60</td>\n",
       "      <td>0.32</td>\n",
       "      <td>Outlet</td>\n",
       "    </tr>\n",
       "    <tr>\n",
       "      <th>9645</th>\n",
       "      <td>9645</td>\n",
       "      <td>Foot Locker</td>\n",
       "      <td>1185732</td>\n",
       "      <td>1969-12-31 19:00:44.249</td>\n",
       "      <td>Northeast</td>\n",
       "      <td>New Hampshire</td>\n",
       "      <td>Manchester</td>\n",
       "      <td>Men's Street Footwear</td>\n",
       "      <td>41.0</td>\n",
       "      <td>184</td>\n",
       "      <td>7544.0</td>\n",
       "      <td>2791.28</td>\n",
       "      <td>0.37</td>\n",
       "      <td>Outlet</td>\n",
       "    </tr>\n",
       "    <tr>\n",
       "      <th>9646</th>\n",
       "      <td>9646</td>\n",
       "      <td>Foot Locker</td>\n",
       "      <td>1185732</td>\n",
       "      <td>1969-12-31 19:00:44.249</td>\n",
       "      <td>Northeast</td>\n",
       "      <td>New Hampshire</td>\n",
       "      <td>Manchester</td>\n",
       "      <td>Men's Athletic Footwear</td>\n",
       "      <td>42.0</td>\n",
       "      <td>70</td>\n",
       "      <td>2940.0</td>\n",
       "      <td>1234.80</td>\n",
       "      <td>0.42</td>\n",
       "      <td>Outlet</td>\n",
       "    </tr>\n",
       "    <tr>\n",
       "      <th>9647</th>\n",
       "      <td>9647</td>\n",
       "      <td>Foot Locker</td>\n",
       "      <td>1185732</td>\n",
       "      <td>1969-12-31 19:00:44.249</td>\n",
       "      <td>Northeast</td>\n",
       "      <td>New Hampshire</td>\n",
       "      <td>Manchester</td>\n",
       "      <td>Women's Street Footwear</td>\n",
       "      <td>29.0</td>\n",
       "      <td>83</td>\n",
       "      <td>2407.0</td>\n",
       "      <td>649.89</td>\n",
       "      <td>0.27</td>\n",
       "      <td>Outlet</td>\n",
       "    </tr>\n",
       "  </tbody>\n",
       "</table>\n",
       "<p>9648 rows × 14 columns</p>\n",
       "</div>"
      ],
      "text/plain": [
       "      Unnamed: 0     Retailer  Retailer ID            Invoice Date     Region  \\\n",
       "0              0  Foot Locker      1185732 1969-12-31 19:00:43.831  Northeast   \n",
       "1              1  Foot Locker      1185732 1969-12-31 19:00:43.832  Northeast   \n",
       "2              2  Foot Locker      1185732 1969-12-31 19:00:43.833  Northeast   \n",
       "3              3  Foot Locker      1185732 1969-12-31 19:00:43.834  Northeast   \n",
       "4              4  Foot Locker      1185732 1969-12-31 19:00:43.835  Northeast   \n",
       "...          ...          ...          ...                     ...        ...   \n",
       "9643        9643  Foot Locker      1185732 1969-12-31 19:00:44.220  Northeast   \n",
       "9644        9644  Foot Locker      1185732 1969-12-31 19:00:44.220  Northeast   \n",
       "9645        9645  Foot Locker      1185732 1969-12-31 19:00:44.249  Northeast   \n",
       "9646        9646  Foot Locker      1185732 1969-12-31 19:00:44.249  Northeast   \n",
       "9647        9647  Foot Locker      1185732 1969-12-31 19:00:44.249  Northeast   \n",
       "\n",
       "              State        City                    Product  Price per Unit  \\\n",
       "0          New York    New York      Men's Street Footwear            50.0   \n",
       "1          New York    New York    Men's Athletic Footwear            50.0   \n",
       "2          New York    New York    Women's Street Footwear            40.0   \n",
       "3          New York    New York  Women's Athletic Footwear            45.0   \n",
       "4          New York    New York              Men's Apparel            60.0   \n",
       "...             ...         ...                        ...             ...   \n",
       "9643  New Hampshire  Manchester              Men's Apparel            50.0   \n",
       "9644  New Hampshire  Manchester            Women's Apparel            41.0   \n",
       "9645  New Hampshire  Manchester      Men's Street Footwear            41.0   \n",
       "9646  New Hampshire  Manchester    Men's Athletic Footwear            42.0   \n",
       "9647  New Hampshire  Manchester    Women's Street Footwear            29.0   \n",
       "\n",
       "      Units Sold  Total Sales  Operating Profit  Operating Margin Sales Method  \n",
       "0           1200     600000.0         300000.00              0.50     In-store  \n",
       "1           1000     500000.0         150000.00              0.30     In-store  \n",
       "2           1000     400000.0         140000.00              0.35     In-store  \n",
       "3            850     382500.0         133875.00              0.35     In-store  \n",
       "4            900     540000.0         162000.00              0.30     In-store  \n",
       "...          ...          ...               ...               ...          ...  \n",
       "9643          64       3200.0            896.00              0.28       Outlet  \n",
       "9644         105       4305.0           1377.60              0.32       Outlet  \n",
       "9645         184       7544.0           2791.28              0.37       Outlet  \n",
       "9646          70       2940.0           1234.80              0.42       Outlet  \n",
       "9647          83       2407.0            649.89              0.27       Outlet  \n",
       "\n",
       "[9648 rows x 14 columns]"
      ]
     },
     "execution_count": 37,
     "metadata": {},
     "output_type": "execute_result"
    }
   ],
   "source": [
    "ruta_archivo = \"../data/raw/adidas_us_sales_dataset.xlsx\"\n",
    "df = pd.read_excel(ruta_archivo, index_col=False)\n",
    "df"
   ]
  },
  {
   "cell_type": "markdown",
   "metadata": {},
   "source": [
    "### Media"
   ]
  },
  {
   "cell_type": "code",
   "execution_count": 38,
   "metadata": {},
   "outputs": [
    {
     "name": "stdout",
     "output_type": "stream",
     "text": [
      "El promedio de precios de venta por unidad es : 45.0\n"
     ]
    }
   ],
   "source": [
    "# Media o promedio para Price per Unit\n",
    "data = df['Price per Unit']\n",
    "media = np.mean(data)\n",
    "print(f\"El promedio de precios de venta por unidad es : {media.round(0)}\")"
   ]
  },
  {
   "cell_type": "code",
   "execution_count": 39,
   "metadata": {},
   "outputs": [
    {
     "name": "stdout",
     "output_type": "stream",
     "text": [
      "El promedio de unidades vendidas es : 257.0\n"
     ]
    }
   ],
   "source": [
    "# Media o promedio de Units sold\n",
    "data = df['Units Sold']\n",
    "media = np.mean(data)\n",
    "print(f\"El promedio de unidades vendidas es : {media.round(0)}\")"
   ]
  },
  {
   "cell_type": "code",
   "execution_count": 40,
   "metadata": {},
   "outputs": [
    {
     "name": "stdout",
     "output_type": "stream",
     "text": [
      "El promedio de ventas totales es : 93273.0\n"
     ]
    }
   ],
   "source": [
    "# Media o promedio de total sales\n",
    "data = df['Total Sales']\n",
    "media = np.mean(data)\n",
    "print(f\"El promedio de ventas totales es : {media.round(0)}\")"
   ]
  },
  {
   "cell_type": "markdown",
   "metadata": {},
   "source": [
    "### Mediana"
   ]
  },
  {
   "cell_type": "code",
   "execution_count": 41,
   "metadata": {},
   "outputs": [
    {
     "name": "stdout",
     "output_type": "stream",
     "text": [
      "El valor central de precios de venta por unidad es : 45.0\n"
     ]
    }
   ],
   "source": [
    "# Calculamos el valor central para Price per Unit\n",
    "data = df['Price per Unit']\n",
    "mediana = np.median(data)\n",
    "print(f'El valor central de precios de venta por unidad es : {mediana}')"
   ]
  },
  {
   "cell_type": "code",
   "execution_count": 42,
   "metadata": {},
   "outputs": [
    {
     "name": "stdout",
     "output_type": "stream",
     "text": [
      "El valor central de unidades vendidas es : 176.0\n"
     ]
    }
   ],
   "source": [
    "# Calculamos el valor central para Units Sold\n",
    "data = df['Units Sold']\n",
    "mediana = np.median(data)\n",
    "print(f\"El valor central de unidades vendidas es : {mediana}\")"
   ]
  },
  {
   "cell_type": "code",
   "execution_count": 43,
   "metadata": {},
   "outputs": [
    {
     "name": "stdout",
     "output_type": "stream",
     "text": [
      "El valor central de ventas totales es : 9576.0\n"
     ]
    }
   ],
   "source": [
    "# Calculamos el valor central para total sales\n",
    "data = df['Total Sales']\n",
    "mediana = np.median(data)\n",
    "print(f\"El valor central de ventas totales es : {mediana}\")"
   ]
  },
  {
   "cell_type": "markdown",
   "metadata": {},
   "source": [
    "### Moda"
   ]
  },
  {
   "cell_type": "code",
   "execution_count": 44,
   "metadata": {},
   "outputs": [
    {
     "name": "stdout",
     "output_type": "stream",
     "text": [
      "La moda o dato que más se repite es : ['1969-12-31T19:00:44.213000000'] [77] veces\n"
     ]
    },
    {
     "name": "stderr",
     "output_type": "stream",
     "text": [
      "C:\\Users\\harri\\AppData\\Local\\Temp\\ipykernel_8704\\2345729561.py:2: DeprecationWarning: Support for non-numeric arrays has been deprecated as of SciPy 1.9.0 and will be removed in 1.11.0. `pandas.DataFrame.mode` can be used instead, see https://pandas.pydata.org/docs/reference/api/pandas.DataFrame.mode.html.\n",
      "  moda = stats.mode(data, keepdims=True)\n"
     ]
    }
   ],
   "source": [
    "data = df['Invoice Date']\n",
    "moda = stats.mode(data, keepdims=True)\n",
    "print(f\"La moda o dato que más se repite es : {moda[0]} {moda[1]} veces\") \n",
    "# Nos da una advertencia porque estamos aplicando las funciones de Scipy a un valor no numérico"
   ]
  },
  {
   "cell_type": "code",
   "execution_count": 45,
   "metadata": {},
   "outputs": [
    {
     "name": "stdout",
     "output_type": "stream",
     "text": [
      "La moda es: 1969-12-31 19:00:44.213000\n",
      "Y se repite 77 veces\n"
     ]
    }
   ],
   "source": [
    "# Supongamos que df es tu DataFrame y 'Invoice Date' es una columna de tipo fecha.\n",
    "data = df['Invoice Date']\n",
    "\n",
    "# Calcular la moda\n",
    "moda = data.mode()\n",
    "\n",
    "# Calcular la frecuencia con la que se repite la moda\n",
    "frecuencia = data.value_counts().loc[moda[0]]\n",
    "\n",
    "print(f\"La moda es: {moda[0]}\")\n",
    "print(f\"Y se repite {frecuencia} veces\")\n"
   ]
  },
  {
   "cell_type": "code",
   "execution_count": 46,
   "metadata": {},
   "outputs": [
    {
     "name": "stdout",
     "output_type": "stream",
     "text": [
      "La moda o dato que más se repite es: [50.]\n",
      "Y se repite: [557] veces\n"
     ]
    }
   ],
   "source": [
    "# Moda para un campo de tipo int: Ver cual es el precio que más se repite\n",
    "data = df['Price per Unit']\n",
    "moda = stats.mode(data, keepdims=True)\n",
    "print(f\"La moda o dato que más se repite es: {moda[0]}\")\n",
    "print(f\"Y se repite: {moda[1]} veces\")"
   ]
  },
  {
   "cell_type": "markdown",
   "metadata": {},
   "source": [
    "## Estadística: Medidas de Dispersión"
   ]
  },
  {
   "cell_type": "markdown",
   "metadata": {},
   "source": [
    "- Describen como se distribuyen los datos en relación con la media"
   ]
  },
  {
   "cell_type": "markdown",
   "metadata": {},
   "source": [
    "### Rango\n",
    "\n",
    "R = Vmax - Vmin"
   ]
  },
  {
   "cell_type": "code",
   "execution_count": 47,
   "metadata": {},
   "outputs": [
    {
     "name": "stdout",
     "output_type": "stream",
     "text": [
      "El rango entre 1275 y 0 es : 1275\n"
     ]
    }
   ],
   "source": [
    "# Rango de unidades vendidas\n",
    "data = df['Units Sold']\n",
    "rango = np.max(data) - np.min(data)\n",
    "print(f\"El rango entre {np.max(data)} y {np.min(data)} es : {rango}\")"
   ]
  },
  {
   "cell_type": "code",
   "execution_count": 48,
   "metadata": {},
   "outputs": [
    {
     "name": "stdout",
     "output_type": "stream",
     "text": [
      "El rango entre 825000.0000000001 y 0.0 es : 825000.0000000001\n"
     ]
    }
   ],
   "source": [
    "# El rango de ventas totales (total sales)\n",
    "data = df['Total Sales']\n",
    "rango = np.max(data) - np.min(data)\n",
    "print(f\"El rango entre {np.max(data)} y {np.min(data)} es : {rango}\")"
   ]
  },
  {
   "cell_type": "markdown",
   "metadata": {},
   "source": [
    "- Invoice Date es un dato de tiempo o dato temporal para la cual si queremos calcular el rango\n",
    "debemos de hacerlo entre la fecha más reciente y la más antigua\n",
    "\n",
    "r = f_reciente - f_antigua"
   ]
  },
  {
   "cell_type": "code",
   "execution_count": 49,
   "metadata": {},
   "outputs": [
    {
     "name": "stdout",
     "output_type": "stream",
     "text": [
      "El rango de tiempo entre 1969-12-31 19:00:44.561000 y 1969-12-31 19:00:43.831000 es : 0 days 00:00:00.730000\n"
     ]
    }
   ],
   "source": [
    "# Primero convertimos la data a tipo datetime\n",
    "df['Invoice Date'] = pd.to_datetime(df['Invoice Date'])\n",
    "# df.dtypes: para comparar el tipo de dato\n",
    "rango_tiempo = df['Invoice Date'].max() - df['Invoice Date'].min()\n",
    "print(f\"El rango de tiempo entre {df['Invoice Date'].max()} y {df['Invoice Date'].min()} es : {rango_tiempo}\")"
   ]
  },
  {
   "cell_type": "markdown",
   "metadata": {},
   "source": [
    "### Varianza (Poblacional y Muestral)"
   ]
  },
  {
   "cell_type": "code",
   "execution_count": 50,
   "metadata": {},
   "outputs": [
    {
     "name": "stdout",
     "output_type": "stream",
     "text": [
      "La varianza poblacional con respecto a la media 93273.4375 es 20138068308.190887\n"
     ]
    }
   ],
   "source": [
    "# Varianza poblacional\n",
    "data = df['Total Sales']\n",
    "varianza_poblacional = np.var(data)\n",
    "varianza_muestral = np.var(data, ddof=1)\n",
    "print(f\"La varianza poblacional con respecto a la media {np.mean(data)} es {varianza_poblacional}\")"
   ]
  },
  {
   "cell_type": "code",
   "execution_count": 51,
   "metadata": {},
   "outputs": [
    {
     "name": "stdout",
     "output_type": "stream",
     "text": [
      "La varianza muestral de ventas totales con respecto al promedio(media) 93273.4375 es 20140155803.61\n"
     ]
    }
   ],
   "source": [
    "# varianza muestral: se aplica comunmente en el análisis de datos ya que \n",
    "# los analistas tienen o tenemos acceso a solo una parte de la población\n",
    "# es decir a datos muestrales\n",
    "print(f\"La varianza muestral de ventas totales con respecto al promedio(media) {np.mean(data)} es {varianza_muestral}\")"
   ]
  },
  {
   "cell_type": "code",
   "execution_count": 56,
   "metadata": {},
   "outputs": [
    {
     "name": "stdout",
     "output_type": "stream",
     "text": [
      "La desviación estandar muestral es : 141916.0167268304\n"
     ]
    }
   ],
   "source": [
    "# Interpretando la varianza:\n",
    "desviacion_standar = np.sqrt(varianza_muestral)\n",
    "print(f\"La desviación estandar muestral es : {desviacion_standar}\")\n",
    "# Quiere decir que las ventas varían en 141916.0167268304 hacia arriba o abajo con respecto a la media"
   ]
  },
  {
   "cell_type": "markdown",
   "metadata": {},
   "source": [
    "### Desviación Estandar"
   ]
  },
  {
   "cell_type": "code",
   "execution_count": 57,
   "metadata": {},
   "outputs": [
    {
     "name": "stdout",
     "output_type": "stream",
     "text": [
      "La desviación estandar poblacional es : 141908.66185046948\n"
     ]
    }
   ],
   "source": [
    "# Desviación Estandar Poblacional\n",
    "data = df['Total Sales']\n",
    "dsp = np.std(data)\n",
    "print(f\"La desviación estandar poblacional es : {dsp}\")"
   ]
  },
  {
   "cell_type": "code",
   "execution_count": 58,
   "metadata": {},
   "outputs": [
    {
     "name": "stdout",
     "output_type": "stream",
     "text": [
      "La desviación estandar muestral es : 141916.0167268304\n"
     ]
    }
   ],
   "source": [
    "# Desviación Estandar Muestral\n",
    "data = df['Total Sales']\n",
    "dsm = np.std(data, ddof=1)\n",
    "print(f\"La desviación estandar muestral es : {dsm}\")"
   ]
  }
 ],
 "metadata": {
  "kernelspec": {
   "display_name": "base",
   "language": "python",
   "name": "python3"
  },
  "language_info": {
   "codemirror_mode": {
    "name": "ipython",
    "version": 3
   },
   "file_extension": ".py",
   "mimetype": "text/x-python",
   "name": "python",
   "nbconvert_exporter": "python",
   "pygments_lexer": "ipython3",
   "version": "3.11.3"
  }
 },
 "nbformat": 4,
 "nbformat_minor": 2
}
