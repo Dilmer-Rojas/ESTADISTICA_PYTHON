{
 "cells": [
  {
   "cell_type": "code",
   "execution_count": 1,
   "metadata": {},
   "outputs": [],
   "source": [
    "import pandas as pd\n",
    "import numpy as np\n",
    "import scipy as stats"
   ]
  },
  {
   "cell_type": "markdown",
   "metadata": {},
   "source": [
    "## Estadísticas"
   ]
  },
  {
   "cell_type": "markdown",
   "metadata": {},
   "source": [
    "### Población: \n",
    "- La tabla bajo estudio que es: adidas_sales_us -> Conjunto de ventas de adidas en estados unidos\n",
    "### Muestra:\n",
    "- NaN\n",
    "### Variables:\n",
    "- `Retailer`: Punto de Venta\n",
    "- `Retailer ID`: ID del Punto de Venta\n",
    "- `Invoice Date`: Es la fecha de factura para por ejemplo: \n",
    "    - Analizar ventas en función del tiempo (ventas mensuales o anuales).\n",
    "    - Identificar patrones y tendencias en las ventas.\n",
    "    - Realizar análisis de ventas por temporada o periodo.\n",
    "- `Region`: Zona geográfica en la que se realizaron las ventas para por ejemplo:\n",
    "    - Analizar las ventas por región e identificar patrones y tendencias.\n",
    "    - Comparar el desempeño de diferentes regiones.\n",
    "    - Realizar análisis de mercado y planificar estrategias de marketing y ventas por región.\n",
    "- `State`: Estado en específico donde se realizaron las ventas para por ejemplo:\n",
    "    - Analizar las ventas por estado e identicar patrones y tendencias.\n",
    "    - Comparar el desempeño de diferentes estados.\n",
    "    - Realizar análisis de mercado y planificar estratégias de marketing y ventas por estado.\n",
    "- `City`: Ciudad específica donde se realizaron las ventas para por ejemplo:\n",
    "    - Analizar las ventas por ciudad e identificar patrones y tendencias.\n",
    "    - Comparar el desempeño de diferentes ciudades.\n",
    "    - Realizar análisis de mercado y planificar estrategias de marketing y ventas por ciudad.\n",
    "- `Product`: "
   ]
  }
 ],
 "metadata": {
  "kernelspec": {
   "display_name": "base",
   "language": "python",
   "name": "python3"
  },
  "language_info": {
   "codemirror_mode": {
    "name": "ipython",
    "version": 3
   },
   "file_extension": ".py",
   "mimetype": "text/x-python",
   "name": "python",
   "nbconvert_exporter": "python",
   "pygments_lexer": "ipython3",
   "version": "3.11.3"
  }
 },
 "nbformat": 4,
 "nbformat_minor": 2
}
